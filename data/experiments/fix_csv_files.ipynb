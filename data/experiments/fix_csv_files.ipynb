{
 "cells": [
  {
   "metadata": {},
   "cell_type": "markdown",
   "source": "# Fix trip stats",
   "id": "56cc8ff4ddd5194b"
  },
  {
   "metadata": {
    "ExecuteTime": {
     "end_time": "2025-05-20T07:46:06.605863Z",
     "start_time": "2025-05-20T07:46:06.597926Z"
    }
   },
   "cell_type": "code",
   "source": [
    "import pandas as pd\n",
    "df = pd.read_csv('Amager_60min_geopop_div3_basis/dijkstra-fastest-path-output/analysis/analysis/trip_stats_disaster.csv')\n",
    "df = df.rename(columns={'car': 'Basis'})\n",
    "df.to_csv('trip_stats_disaster_basis.csv', index=False)\n",
    "\n",
    "def fix_trip_stats(folder_name: str, column_to: str, name, original_df: str = 'trip_stats_disaster_basis.csv', remove_basis: bool = False):\n",
    "    df = pd.read_csv(original_df)\n",
    "    new_df = pd.read_csv(f'{folder_name}/analysis/analysis/trip_stats_disaster.csv')\n",
    "    df[column_to] = new_df['car']\n",
    "    if remove_basis:\n",
    "        df.drop(columns=['Basis'], inplace=True)\n",
    "    df.to_csv(f'trip_stats_disaster_{name}.csv', index=False)\n",
    "\n",
    "polaris = True\n",
    "\n",
    "algo_fastest= 'AMAGER_FASTEST'\n",
    "algo_shortest= 'AMAGER_SHORTEST'\n",
    "\n",
    "div_fastest_div1= 'FASTEST_DIV1'\n",
    "div_fastest_div3= 'FASTEST_DIV3'\n",
    "\n",
    "realistic_population = \"REALISTIC_POPULATION\"\n",
    "uniform_population = \"UNIFORM_POPULATION\"\n",
    "\n",
    "div_shortest_div1= 'SHORTEST_DIV1'\n",
    "div_shortest_div3= 'SHORTEST_DIV3'\n",
    "\n",
    "few_exits= 'FEW_EXITS'\n",
    "more_exits= 'MORE_EXITS'\n",
    "\n",
    "departure_60 = \"DEPARTURE_ TIME_60\"\n",
    "departure_90 = \"DEPARTURE_ TIME_90\"\n",
    "departure_120 = \"DEPARTURE_ TIME_120\"\n",
    "departure_150 = \"DEPARTURE_ TIME_150\"\n",
    "departure_180 = \"DEPARTURE_ TIME_180\"\n",
    "\n",
    "polaris_div1= 'POLARIS_DIV1'\n",
    "polaris_div3= 'POLARIS_DIV3'\n",
    "\n",
    "ravenna_fastest= 'RAVENNA_FASTEST'\n",
    "ravenna_shortest= 'RAVENNA_SHORTEST'\n",
    "\n",
    "basis = 'Amager_60min_geopop_div3_basis/dijkstra-fastest-path-output/'"
   ],
   "id": "b824f012a3f98d38",
   "outputs": [],
   "execution_count": 129
  },
  {
   "metadata": {
    "ExecuteTime": {
     "end_time": "2025-05-20T07:46:06.619364Z",
     "start_time": "2025-05-20T07:46:06.612068Z"
    }
   },
   "cell_type": "code",
   "source": [
    "## POPULATION\n",
    "fix_trip_stats(basis,realistic_population, 'population', remove_basis=True)\n",
    "fix_trip_stats('Amager_60min_number_div3/dijkstra-fastest-path-output/',uniform_population, 'population', 'trip_stats_disaster_population.csv')\n"
   ],
   "id": "4980a9329ed340eb",
   "outputs": [],
   "execution_count": 130
  },
  {
   "metadata": {
    "ExecuteTime": {
     "end_time": "2025-05-20T07:46:06.632585Z",
     "start_time": "2025-05-20T07:46:06.626761Z"
    }
   },
   "cell_type": "code",
   "source": [
    "# MORE EXITS\n",
    "fix_trip_stats(basis,few_exits, 'moreExits', remove_basis=True)\n",
    "fix_trip_stats('AmagerMoreExits_60min_geopop_div3/dijkstra-fastest-path-output/',more_exits, 'moreExits', 'trip_stats_disaster_moreExits.csv')"
   ],
   "id": "363ca84df2d57ac2",
   "outputs": [],
   "execution_count": 131
  },
  {
   "metadata": {
    "ExecuteTime": {
     "end_time": "2025-05-20T07:46:06.646922Z",
     "start_time": "2025-05-20T07:46:06.637567Z"
    }
   },
   "cell_type": "code",
   "source": [
    "# TIME\n",
    "fix_trip_stats(basis,departure_60, 'time', remove_basis=True)\n",
    "fix_trip_stats('Amager_90min_geopop_div3/dijkstra-fastest-path-output/',departure_90, 'time', 'trip_stats_disaster_time.csv')\n",
    "fix_trip_stats('Amager_120min_geopop_div3/dijkstra-fastest-path-output/',departure_120, 'time','trip_stats_disaster_time.csv')\n",
    "fix_trip_stats('Amager_150min_geopop_div3/dijkstra-fastest-path-output/',departure_150, 'time','trip_stats_disaster_time.csv')\n",
    "fix_trip_stats('Amager_180min_geopop_div3/dijkstra-fastest-path-output/',departure_180, 'time','trip_stats_disaster_time.csv')\n"
   ],
   "id": "754beaa07baa63a2",
   "outputs": [],
   "execution_count": 132
  },
  {
   "metadata": {
    "ExecuteTime": {
     "end_time": "2025-05-20T07:46:06.656843Z",
     "start_time": "2025-05-20T07:46:06.651646Z"
    }
   },
   "cell_type": "code",
   "source": [
    "#ALGORITHMS\n",
    "\n",
    "fix_trip_stats('fastest-shortest-combined/amager-fastest-3-output',algo_fastest, 'algorithms', remove_basis=True)\n",
    "fix_trip_stats('fastest-shortest-combined/amager-shortest-3-output',algo_shortest, 'algorithms', 'trip_stats_disaster_algorithms.csv')"
   ],
   "id": "347b2970b3ba62d8",
   "outputs": [],
   "execution_count": 133
  },
  {
   "metadata": {
    "ExecuteTime": {
     "end_time": "2025-05-20T07:46:06.668703Z",
     "start_time": "2025-05-20T07:46:06.661376Z"
    }
   },
   "cell_type": "code",
   "source": [
    "## DIVERSIFYING ENDPOINTS\n",
    "fix_trip_stats('fastest-shortest-combined/amager-fastest-1-output',div_fastest_div1, 'diversifying', remove_basis=True)\n",
    "fix_trip_stats('fastest-shortest-combined/amager-fastest-3-output',div_fastest_div3, 'diversifying','trip_stats_disaster_diversifying.csv')\n",
    "fix_trip_stats('fastest-shortest-combined/amager-shortest-1-output',div_shortest_div1, 'diversifying', 'trip_stats_disaster_diversifying.csv')\n",
    "fix_trip_stats('fastest-shortest-combined/amager-shortest-3-output',div_shortest_div3, 'diversifying', 'trip_stats_disaster_diversifying.csv')\n"
   ],
   "id": "1de4276452288d70",
   "outputs": [],
   "execution_count": 134
  },
  {
   "metadata": {
    "ExecuteTime": {
     "end_time": "2025-05-20T07:46:06.678935Z",
     "start_time": "2025-05-20T07:46:06.673148Z"
    }
   },
   "cell_type": "code",
   "source": [
    "if polaris:\n",
    "    fix_trip_stats('polaris-combined/amager-polaris-1-output',polaris_div1, 'Polaris', remove_basis=True)\n",
    "    fix_trip_stats('polaris-combined/amager-polaris-3-output',polaris_div3, 'Polaris', 'trip_stats_disaster_Polaris.csv')\n"
   ],
   "id": "ae4089753b1a1211",
   "outputs": [],
   "execution_count": 135
  },
  {
   "metadata": {
    "ExecuteTime": {
     "end_time": "2025-05-20T07:46:06.690104Z",
     "start_time": "2025-05-20T07:46:06.684220Z"
    }
   },
   "cell_type": "code",
   "source": [
    "# Ravenna\n",
    "fix_trip_stats('fastest-shortest-combined/ravenna-fastest-3-output',ravenna_fastest, 'ravenna', remove_basis=True)\n",
    "fix_trip_stats('fastest-shortest-combined/ravenna-shortest-3-output',ravenna_shortest, 'ravenna', 'trip_stats_disaster_ravenna.csv')\n"
   ],
   "id": "1f9063f559c226bf",
   "outputs": [],
   "execution_count": 136
  },
  {
   "metadata": {},
   "cell_type": "markdown",
   "source": "# Fix dangerzone stats",
   "id": "522b0a27fd98cd05"
  },
  {
   "metadata": {
    "ExecuteTime": {
     "end_time": "2025-05-20T07:46:06.703970Z",
     "start_time": "2025-05-20T07:46:06.699053Z"
    }
   },
   "cell_type": "code",
   "source": [
    "value = ' Value'\n",
    "import pandas as pd\n",
    "df = pd.read_csv('Amager_60min_geopop_div3_basis/dijkstra-fastest-path-output/analysis/danger_zone_data.csv')\n",
    "df = df.rename(columns={value: 'Basis'})\n",
    "df.to_csv('danger_zone_data_basis.csv', index=False)\n",
    "\n",
    "\n",
    "\n",
    "def fix_danger_zone_data(folder_name: str, column_to: str, name, original_df: str = 'danger_zone_data_basis.csv', rename: str = \"\", remove_basis: bool = False):\n",
    "    basis_df = pd.read_csv(original_df)\n",
    "    new_df = pd.read_csv(f'{folder_name}/analysis/danger_zone_data.csv')\n",
    "    basis_df[column_to] = new_df[value]\n",
    "    if rename != \"\":\n",
    "        basis_df.rename(columns={'Basis': rename}, inplace=True)\n",
    "    if remove_basis:\n",
    "        basis_df.drop(columns=['Basis'], inplace=True)\n",
    "    basis_df.to_csv(f'danger_zone_data_{name}.csv', index=False)"
   ],
   "id": "803f507bd178ee1a",
   "outputs": [],
   "execution_count": 137
  },
  {
   "metadata": {
    "ExecuteTime": {
     "end_time": "2025-05-20T07:46:06.709855Z",
     "start_time": "2025-05-20T07:46:06.706348Z"
    }
   },
   "cell_type": "code",
   "source": [
    "## POPULATION\n",
    "\n",
    "fix_danger_zone_data(folder_name='Amager_60min_number_div3/dijkstra-fastest-path-output/',column_to=uniform_population, name='population', rename=realistic_population)\n"
   ],
   "id": "a937adcb4a1117ca",
   "outputs": [],
   "execution_count": 138
  },
  {
   "metadata": {
    "ExecuteTime": {
     "end_time": "2025-05-20T07:46:06.717649Z",
     "start_time": "2025-05-20T07:46:06.714436Z"
    }
   },
   "cell_type": "code",
   "source": [
    "## MORE EXITS\n",
    "fix_danger_zone_data(folder_name='AmagerMoreExits_60min_geopop_div3/dijkstra-fastest-path-output/',column_to=more_exits, name='moreExits', rename=few_exits)"
   ],
   "id": "556ec8be713dd105",
   "outputs": [],
   "execution_count": 139
  },
  {
   "metadata": {
    "ExecuteTime": {
     "end_time": "2025-05-20T07:46:06.730937Z",
     "start_time": "2025-05-20T07:46:06.722339Z"
    }
   },
   "cell_type": "code",
   "source": [
    "#TIME\n",
    "fix_danger_zone_data(folder_name='Amager_60min_geopop_div3_basis/dijkstra-fastest-path-output/',column_to=departure_60, name='time', remove_basis=True)\n",
    "fix_danger_zone_data(folder_name='Amager_90min_geopop_div3/dijkstra-fastest-path-output/',column_to=departure_90, name='time', original_df='danger_zone_data_time.csv')\n",
    "fix_danger_zone_data('Amager_120min_geopop_div3/dijkstra-fastest-path-output/',departure_120, 'time','danger_zone_data_time.csv')\n",
    "fix_danger_zone_data('Amager_150min_geopop_div3/dijkstra-fastest-path-output/',departure_150, 'time','danger_zone_data_time.csv')\n",
    "fix_danger_zone_data('Amager_180min_geopop_div3/dijkstra-fastest-path-output/',departure_180, 'time','danger_zone_data_time.csv')\n",
    "\n"
   ],
   "id": "e84e7d9b59597a6",
   "outputs": [],
   "execution_count": 140
  },
  {
   "metadata": {
    "ExecuteTime": {
     "end_time": "2025-05-20T07:46:06.740249Z",
     "start_time": "2025-05-20T07:46:06.735306Z"
    }
   },
   "cell_type": "code",
   "source": [
    "# ALGORITHMS\n",
    "fix_danger_zone_data(folder_name='fastest-shortest-combined/amager-fastest-3-output/',column_to=algo_fastest, name='algorithms', remove_basis=True)\n",
    "fix_danger_zone_data('fastest-shortest-combined/amager-shortest-3-output/',algo_shortest, 'algorithms', 'danger_zone_data_algorithms.csv')"
   ],
   "id": "b17a6e830306236b",
   "outputs": [],
   "execution_count": 141
  },
  {
   "metadata": {
    "ExecuteTime": {
     "end_time": "2025-05-20T07:46:06.751594Z",
     "start_time": "2025-05-20T07:46:06.745058Z"
    }
   },
   "cell_type": "code",
   "source": [
    "# DIVERSIFYING ENDPOINTS\n",
    "fix_danger_zone_data('fastest-shortest-combined/amager-fastest-1-output/',div_fastest_div1,'diversifying', remove_basis=True)\n",
    "fix_danger_zone_data('fastest-shortest-combined/amager-fastest-3-output/',div_fastest_div3, 'diversifying',original_df='danger_zone_data_diversifying.csv')\n",
    "fix_danger_zone_data('fastest-shortest-combined/amager-shortest-1-output/',div_shortest_div1, 'diversifying', original_df='danger_zone_data_diversifying.csv')\n",
    "\n",
    "fix_danger_zone_data('fastest-shortest-combined/amager-shortest-3-output/',div_shortest_div3, 'diversifying', original_df='danger_zone_data_diversifying.csv')"
   ],
   "id": "9448bd53454674b9",
   "outputs": [],
   "execution_count": 142
  },
  {
   "metadata": {
    "ExecuteTime": {
     "end_time": "2025-05-20T07:46:06.761053Z",
     "start_time": "2025-05-20T07:46:06.756408Z"
    }
   },
   "cell_type": "code",
   "source": [
    "## POLARIS\n",
    "if polaris:\n",
    "    fix_danger_zone_data('polaris-combined/amager-polaris-1-output/',polaris_div1, 'Polaris', remove_basis=True)\n",
    "    fix_danger_zone_data('polaris-combined/amager-polaris-3-output/',polaris_div3, 'Polaris', original_df='danger_zone_data_Polaris.csv')\n"
   ],
   "id": "57bc6ac30431aa74",
   "outputs": [],
   "execution_count": 143
  },
  {
   "metadata": {
    "ExecuteTime": {
     "end_time": "2025-05-20T07:46:06.770876Z",
     "start_time": "2025-05-20T07:46:06.765958Z"
    }
   },
   "cell_type": "code",
   "source": [
    "# Ravenna\n",
    "fix_danger_zone_data('fastest-shortest-combined/ravenna-fastest-3-output/',ravenna_fastest, 'ravenna', remove_basis=True)\n",
    "fix_danger_zone_data('fastest-shortest-combined/ravenna-shortest-3-output/',ravenna_shortest, 'ravenna', 'danger_zone_data_ravenna.csv')\n"
   ],
   "id": "b994a06fdd5e456",
   "outputs": [],
   "execution_count": 144
  }
 ],
 "metadata": {
  "kernelspec": {
   "display_name": "venv",
   "language": "python",
   "name": "python3"
  },
  "language_info": {
   "codemirror_mode": {
    "name": "ipython",
    "version": 3
   },
   "file_extension": ".py",
   "mimetype": "text/x-python",
   "name": "python",
   "nbconvert_exporter": "python",
   "pygments_lexer": "ipython3",
   "version": "3.8.10"
  }
 },
 "nbformat": 4,
 "nbformat_minor": 5
}
