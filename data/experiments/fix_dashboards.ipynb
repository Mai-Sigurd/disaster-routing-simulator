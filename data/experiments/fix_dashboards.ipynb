{
 "cells": [
  {
   "cell_type": "code",
   "id": "initial_id",
   "metadata": {
    "collapsed": true,
    "ExecuteTime": {
     "end_time": "2025-05-27T13:05:26.665721Z",
     "start_time": "2025-05-27T13:05:26.662007Z"
    }
   },
   "source": [
    ""
   ],
   "outputs": [],
   "execution_count": null
  },
  {
   "metadata": {
    "ExecuteTime": {
     "end_time": "2025-05-27T13:05:26.677322Z",
     "start_time": "2025-05-27T13:05:26.674761Z"
    }
   },
   "cell_type": "code",
   "source": [
    "from pathlib import Path\n",
    "import yaml\n",
    "\n"
   ],
   "id": "c26c0db40891ff9e",
   "outputs": [],
   "execution_count": 28
  },
  {
   "metadata": {
    "ExecuteTime": {
     "end_time": "2025-05-27T13:05:26.706459Z",
     "start_time": "2025-05-27T13:05:26.698350Z"
    }
   },
   "cell_type": "code",
   "source": [
    "def new_dashboard(data, title, new_file_name, folder_names, names, simulation_statistics_csv, evacuation_statistics_csv\n",
    "   ):\n",
    "    header = data[\"header\"]\n",
    "    header[\"title\"] = title\n",
    "    header['description'] = \"\"\n",
    "\n",
    "    simulation_statistics = data[\"layout\"][\"table_statistics\"][0]\n",
    "    simulation_statistics[\"dataset\"] = simulation_statistics_csv\n",
    "    evacuation_statistics= data[\"layout\"][\"table_statistics\"][1]\n",
    "    evacuation_statistics[\"dataset\"] = evacuation_statistics_csv\n",
    "\n",
    "\n",
    "\n",
    "    people_in_safety = data[\"layout\"][\"people_in_safety\"][0]\n",
    "    people_in_safety[\"datasets\"] = {\n",
    "        folder: f\"{folder}/analysis/analysis/people_in_safety.csv\"\n",
    "        for folder in folder_names\n",
    "    }\n",
    "    people_in_safety[\"traces\"] = [\n",
    "        {\n",
    "            \"type\": \"scatter\",\n",
    "            \"x\": f\"${folder_names[i]}.bin\",\n",
    "            \"y\": f\"${folder_names[i]}.cumulative_traveltime\",\n",
    "            \"name\": names[i],\n",
    "            \"original_name\": names[i],\n",
    "            \"mode\": \"lines\",\n",
    "            \"line\": {\n",
    "                \"width\": 2,\n",
    "                \"smoothing\": 1,\n",
    "                \"shape\": \"spline\",\n",
    "                \"dash\": \"solid\",\n",
    "                \"simplify\": True,\n",
    "                \"context\": {\n",
    "                    \"width\": 2,\n",
    "                    \"smoothing\": 1,\n",
    "                    \"shape\": \"spline\",\n",
    "                    \"dash\": \"solid\",\n",
    "                    \"simplify\": True,\n",
    "                },\n",
    "            },\n",
    "        }\n",
    "        for i in range(len(folder_names))\n",
    "    ]\n",
    "    people_in_safety[\"colorRamp\"] = \"Viridis\"\n",
    "\n",
    "    congestion_index_by_hour = data[\"layout\"][\"congestion_index_by_hour\"]\n",
    "    congestion_index_by_hour[\"datasets\"] = {\n",
    "           folder: f\"{folder}/analysis/analysis/traffic_stats_by_road_type_and_hour.csv\"\n",
    "        for folder in folder_names\n",
    "    }\n",
    "\n",
    "    congestion_index_by_hour[\"traces\"] = [\n",
    "        {\n",
    "            \"x\": f\"${folder_names[i]}.hour\",\n",
    "            \"y\": f\"${folder_names[i]}.congestion_index\",\n",
    "            \"type\": \"scatter\",\n",
    "            \"name\": names[i],\n",
    "        }\n",
    "        for i in range(len(folder_names))\n",
    "    ]\n",
    "    congestion_index_by_hour[\"colorRamp\"] = \"Viridis\"\n",
    "    congestion_index_by_hour[\"layout\"][\"xaxis\"][\"title\"] = \"Hours after start of simulation\"\n",
    "\n",
    "    Trip_distance_distribution = data[\"layout\"][\"Trip_distance_distribution\"][0]\n",
    "    Trip_distance_distribution[\"datasets\"] = {\n",
    "        folder: {\n",
    "            \"file\": f\"{folder}/analysis/population/mode_share.csv\",\n",
    "            \"aggregate\": {\n",
    "                \"func\": \"SUM\",\n",
    "                \"groupBy\": [\"dist_group\"],\n",
    "                \"target\": \"share\",\n",
    "            },\n",
    "        }\n",
    "        for folder in folder_names\n",
    "    }\n",
    "\n",
    "\n",
    "    Trip_distance_distribution[\"traces\"] = [\n",
    "        {\n",
    "            \"x\": f\"${folder_names[i]}.dist_group\",\n",
    "            \"y\": f\"${folder_names[i]}.share\",\n",
    "            \"name\": names[i],\n",
    "            \"orientation\": \"v\",\n",
    "            \"type\": \"bar\",\n",
    "            \"original_name\": names[i],\n",
    "        }\n",
    "        for i in range(len(folder_names))\n",
    "    ]\n",
    "    Trip_distance_distribution[\"colorRamp\"] = \"Viridis\"\n",
    "\n",
    "    departures = data[\"layout\"][\"departures\"][0]\n",
    "    departures[\"datasets\"] = {\n",
    "        folder: f\"{folder}/analysis/analysis/trip_purposes_by_10_minutes.csv\"\n",
    "        for folder in folder_names\n",
    "    }\n",
    "    departures[\"traces\"] = [\n",
    "        {\n",
    "            \"x\": f\"${folder_names[i]}.bin\",\n",
    "            \"y\": f\"${folder_names[i]}.departure\",\n",
    "            \"name\": names[i],\n",
    "            \"orientation\": \"v\",\n",
    "            \"type\": \"bar\",\n",
    "            \"original_name\": names[i],\n",
    "        }\n",
    "        for i in range(len(folder_names))\n",
    "    ]\n",
    "    departures[\"colorRamp\"] = \"Viridis\"\n",
    "\n",
    "    arrivals = data[\"layout\"][\"arrivals\"][0]\n",
    "    arrivals[\"datasets\"] = {\n",
    "        folder: f\"{folder}/analysis/analysis/trip_purposes_by_10_minutes.csv\"\n",
    "        for folder in folder_names\n",
    "    }\n",
    "\n",
    "    arrivals[\"traces\"] = [\n",
    "        {\n",
    "            \"x\": f\"${folder_names[i]}.bin\",\n",
    "            \"y\": f\"${folder_names[i]}.arrival\",\n",
    "            \"name\": names[i],\n",
    "            \"orientation\": \"v\",\n",
    "            \"type\": \"bar\",\n",
    "            \"original_name\": names[i],\n",
    "        }\n",
    "        for i in range(len(folder_names))\n",
    "    ]\n",
    "\n",
    "    arrivals[\"colorRamp\"] = \"Viridis\"\n",
    "\n",
    "    travel_time = data[\"layout\"][\"travel_time\"][0]\n",
    "    travel_time[\"datasets\"] = {\n",
    "        folder: f\"{folder}/analysis/analysis/trip_purposes_by_10_minutes.csv\"\n",
    "        for folder in folder_names\n",
    "    }\n",
    "\n",
    "    travel_time[\"traces\"] = [\n",
    "        {\n",
    "            \"x\": f\"${folder_names[i]}.bin\",\n",
    "            \"y\": f\"${folder_names[i]}.traveltime\",\n",
    "            \"name\": names[i],\n",
    "            \"orientation\": \"v\",\n",
    "            \"type\": \"bar\",\n",
    "            \"original_name\": names[i],\n",
    "        }\n",
    "        for i in range(len(folder_names))\n",
    "    ]\n",
    "    travel_time[\"colorRamp\"] = \"Viridis\"\n",
    "\n",
    "    file_path_to: Path = Path(new_file_name)\n",
    "    file_path_to.write_text(yaml.dump(data, sort_keys=False), encoding=\"utf-8\")\n",
    "\n",
    "algo_fastest= 'AMAGER_FASTEST'\n",
    "algo_shortest= 'AMAGER_SHORTEST'\n",
    "\n",
    "div_fastest_div1= 'FASTEST_DIV1'\n",
    "div_fastest_div3= 'FASTEST_DIV3'\n",
    "\n",
    "realistic_population = \"REALISTIC_POPULATION\"\n",
    "uniform_population = \"UNIFORM_POPULATION\"\n",
    "\n",
    "div_shortest_div1= 'SHORTEST_DIV1'\n",
    "div_shortest_div3= 'SHORTEST_DIV3'\n",
    "\n",
    "few_exits= 'FEW_EXITS'\n",
    "more_exits= 'MORE_EXITS'\n",
    "\n",
    "departure_60 = \"DEPARTURE_TIME_60\"\n",
    "departure_90 = \"DEPARTURE_TIME_90\"\n",
    "departure_120 = \"DEPARTURE_TIME_120\"\n",
    "departure_150 = \"DEPARTURE_TIME_150\"\n",
    "departure_180 = \"DEPARTURE_TIME_180\"\n",
    "\n",
    "polaris_div1= 'POLARIS_DIV1'\n",
    "polaris_div3= 'POLARIS_DIV3'\n",
    "\n",
    "ravenna_fastest= 'RAVENNA_FASTEST'\n",
    "ravenna_shortest= 'RAVENNA_SHORTEST'\n"
   ],
   "id": "905405709afd1ac1",
   "outputs": [],
   "execution_count": 29
  },
  {
   "metadata": {
    "ExecuteTime": {
     "end_time": "2025-05-27T13:05:26.738021Z",
     "start_time": "2025-05-27T13:05:26.716432Z"
    }
   },
   "cell_type": "code",
   "source": [
    "file_path: Path = Path(\"dashboard-100.yaml\")\n",
    "\n",
    "data = yaml.safe_load(file_path.read_text(encoding=\"utf-8\"))\n",
    "title = \"Time study\"\n",
    "\n",
    "folder_names = [\"Amager_60min_geopop_div3_basis/dijkstra-fastest-path-output\",\n",
    "                \"Amager_90min_geopop_div3/dijkstra-fastest-path-output\",\n",
    "                \"Amager_120min_geopop_div3/dijkstra-fastest-path-output\",\n",
    "                \"Amager_150min_geopop_div3/dijkstra-fastest-path-output\",\n",
    "                \"Amager_180min_geopop_div3/dijkstra-fastest-path-output\"]\n",
    "\n",
    "names = [departure_60, departure_90, departure_120, departure_150, departure_180]\n",
    "evacuation_statistics_csv = \"trip_stats_disaster_time.csv\"\n",
    "simulation_statistics_csv = \"danger_zone_data_time.csv\"\n",
    "new_file_name = \"dashboard-13.yaml\"\n",
    "\n",
    "new_dashboard(data=data, title=title, new_file_name=new_file_name, folder_names=folder_names, names=names, simulation_statistics_csv=simulation_statistics_csv, evacuation_statistics_csv=evacuation_statistics_csv)\n"
   ],
   "id": "fb2a294b81eec01d",
   "outputs": [],
   "execution_count": 30
  },
  {
   "metadata": {
    "ExecuteTime": {
     "end_time": "2025-05-27T13:05:26.758200Z",
     "start_time": "2025-05-27T13:05:26.742771Z"
    }
   },
   "cell_type": "code",
   "source": [
    "file_path: Path = Path(\"dashboard-100.yaml\")\n",
    "data = yaml.safe_load(file_path.read_text(encoding=\"utf-8\"))\n",
    "\n",
    "folder_names = [\"Amager_60min_geopop_div3_basis/dijkstra-fastest-path-output\",\n",
    "                \"Amager_60min_number_div3/dijkstra-fastest-path-output\"]\n",
    "names = [realistic_population, uniform_population]\n",
    "evacuation_statistics_csv = \"trip_stats_disaster_population.csv\"\n",
    "simulation_statistics_csv = \"danger_zone_data_population.csv\"\n",
    "new_dashboard(data=data,folder_names=folder_names, names=names, new_file_name=\"dashboard-11.yaml\", title=\"Population study\", simulation_statistics_csv=simulation_statistics_csv, evacuation_statistics_csv=evacuation_statistics_csv)"
   ],
   "id": "3966bc2605ad22f1",
   "outputs": [],
   "execution_count": 31
  },
  {
   "metadata": {
    "ExecuteTime": {
     "end_time": "2025-05-27T13:05:26.763912Z",
     "start_time": "2025-05-27T13:05:26.762604Z"
    }
   },
   "cell_type": "code",
   "source": "\n",
   "id": "b4e6f14111d23cef",
   "outputs": [],
   "execution_count": 31
  },
  {
   "metadata": {
    "ExecuteTime": {
     "end_time": "2025-05-27T13:05:26.783576Z",
     "start_time": "2025-05-27T13:05:26.768475Z"
    }
   },
   "cell_type": "code",
   "source": [
    "## Population\n",
    "file_path: Path = Path(\"dashboard-100.yaml\")\n",
    "\n",
    "data = yaml.safe_load(file_path.read_text(encoding=\"utf-8\"))\n",
    "folder_names = \\\n",
    "    [\"Amager_60min_geopop_div3_basis/dijkstra-fastest-path-output\",\n",
    "     \"AmagerMoreExits_60min_geopop_div3/dijkstra-fastest-path-output\"]\n",
    "names = [few_exits,\n",
    "         more_exits]\n",
    "title = \"More exits study\"\n",
    "evacuation_statistics_csv = \"trip_stats_disaster_moreExits.csv\"\n",
    "simulation_statistics_csv = \"danger_zone_data_moreExits.csv\"\n",
    "new_dashboard(data=data,folder_names=folder_names, names=names, new_file_name=\"dashboard-12.yaml\", title=title, simulation_statistics_csv=simulation_statistics_csv, evacuation_statistics_csv=evacuation_statistics_csv)"
   ],
   "id": "e3c1ef1dc8d9b11e",
   "outputs": [],
   "execution_count": 32
  },
  {
   "metadata": {
    "ExecuteTime": {
     "end_time": "2025-05-27T13:05:26.788969Z",
     "start_time": "2025-05-27T13:05:26.787793Z"
    }
   },
   "cell_type": "code",
   "source": "",
   "id": "6fd8510c9872f197",
   "outputs": [],
   "execution_count": null
  },
  {
   "metadata": {
    "ExecuteTime": {
     "end_time": "2025-05-27T13:05:26.809512Z",
     "start_time": "2025-05-27T13:05:26.793328Z"
    }
   },
   "cell_type": "code",
   "source": [
    "### ALGORITHMS\n",
    "file_path: Path = Path(\"dashboard-100.yaml\")\n",
    "data = yaml.safe_load(file_path.read_text(encoding=\"utf-8\"))\n",
    "folder_names = \\\n",
    "    [\"fastest-shortest-combined/amager-fastest-3-output\",\n",
    "     \"fastest-shortest-combined/amager-shortest-3-output\"]\n",
    "names = \\\n",
    "    [algo_fastest,\n",
    "     algo_shortest]\n",
    "title = \"Algorithms study\"\n",
    "new_file_name = \"dashboard-14.yaml\"\n",
    "evacuation_statistics_csv = \"trip_stats_disaster_algorithms.csv\"\n",
    "simulation_statistics_csv = \"danger_zone_data_algorithms.csv\"\n",
    "new_dashboard(data=data, folder_names=folder_names, names=names, new_file_name=new_file_name, title=title, simulation_statistics_csv=simulation_statistics_csv, evacuation_statistics_csv=evacuation_statistics_csv)"
   ],
   "id": "db110835591f3c43",
   "outputs": [],
   "execution_count": 33
  },
  {
   "metadata": {
    "ExecuteTime": {
     "end_time": "2025-05-27T13:05:26.832069Z",
     "start_time": "2025-05-27T13:05:26.814003Z"
    }
   },
   "cell_type": "code",
   "source": [
    "## DIVERSIFYING ENDPOINTS\n",
    "file_path: Path = Path(\"dashboard-100.yaml\")\n",
    "data = yaml.safe_load(file_path.read_text(encoding=\"utf-8\"))\n",
    "folder_names = \\\n",
    "    [\"fastest-shortest-combined/amager-fastest-1-output\",\n",
    "     \"fastest-shortest-combined/amager-fastest-3-output\",\n",
    "     \"fastest-shortest-combined/amager-shortest-1-output\",\n",
    "     \"fastest-shortest-combined/amager-shortest-3-output\"]\n",
    "names = \\\n",
    "    [div_fastest_div1,\n",
    "     div_fastest_div3,\n",
    "     div_shortest_div1,\n",
    "     div_shortest_div3]\n",
    "title = \"Diversifying endpoints study\"\n",
    "new_file_name = \"dashboard-15.yaml\"\n",
    "evacuation_statistics_csv = \"trip_stats_disaster_diversifying.csv\"\n",
    "simulation_statistics_csv = \"danger_zone_data_diversifying.csv\"\n",
    "new_dashboard(data=data, folder_names=folder_names, names=names, new_file_name=new_file_name, title=title, simulation_statistics_csv=simulation_statistics_csv, evacuation_statistics_csv=evacuation_statistics_csv)"
   ],
   "id": "1cd59df535fbf169",
   "outputs": [],
   "execution_count": 34
  },
  {
   "metadata": {
    "ExecuteTime": {
     "end_time": "2025-05-27T13:05:26.851889Z",
     "start_time": "2025-05-27T13:05:26.836551Z"
    }
   },
   "cell_type": "code",
   "source": [
    "## POLARIS\n",
    "if True:\n",
    "    file_path: Path = Path(\"dashboard-100.yaml\")\n",
    "    data = yaml.safe_load(file_path.read_text(encoding=\"utf-8\"))\n",
    "    folder_names = \\\n",
    "        [\"polaris-combined/amager-polaris-1-output\",\n",
    "         \"polaris-combined/amager-polaris-3-output\"]\n",
    "    names = \\\n",
    "        [polaris_div1,\n",
    "         polaris_div3]\n",
    "    title = \"Polaris study\"\n",
    "    new_file_name = \"dashboard-16.yaml\"\n",
    "    evacuation_statistics_csv = \"trip_stats_disaster_Polaris.csv\"\n",
    "    simulation_statistics_csv = \"danger_zone_data_Polaris.csv\"\n",
    "    new_dashboard(data=data, folder_names=folder_names, names=names, new_file_name=new_file_name, title=title, simulation_statistics_csv=simulation_statistics_csv, evacuation_statistics_csv=evacuation_statistics_csv)"
   ],
   "id": "1904476878dba880",
   "outputs": [],
   "execution_count": 35
  },
  {
   "metadata": {
    "ExecuteTime": {
     "end_time": "2025-05-27T13:05:26.871363Z",
     "start_time": "2025-05-27T13:05:26.856071Z"
    }
   },
   "cell_type": "code",
   "source": [
    "## RAVENNA\n",
    "file_path: Path = Path(\"dashboard-100.yaml\")\n",
    "data = yaml.safe_load(file_path.read_text(encoding=\"utf-8\"))\n",
    "folder_names = \\\n",
    "    [\"fastest-shortest-combined/ravenna-fastest-3-output\",\n",
    "     \"fastest-shortest-combined/ravenna-shortest-3-output\"]\n",
    "names = \\\n",
    "    [ravenna_fastest,\n",
    "     ravenna_shortest]\n",
    "title = \"Ravenna study\"\n",
    "new_file_name = \"dashboard-17.yaml\"\n",
    "evacuation_statistics_csv = \"trip_stats_disaster_ravenna.csv\"\n",
    "simulation_statistics_csv = \"danger_zone_data_ravenna.csv\"\n",
    "new_dashboard(data=data, folder_names=folder_names, names=names, new_file_name=new_file_name, title=title, simulation_statistics_csv=simulation_statistics_csv, evacuation_statistics_csv=evacuation_statistics_csv)"
   ],
   "id": "24bf2f84eeadc405",
   "outputs": [],
   "execution_count": 36
  }
 ],
 "metadata": {
  "kernelspec": {
   "display_name": "Python 3",
   "language": "python",
   "name": "python3"
  },
  "language_info": {
   "codemirror_mode": {
    "name": "ipython",
    "version": 2
   },
   "file_extension": ".py",
   "mimetype": "text/x-python",
   "name": "python",
   "nbconvert_exporter": "python",
   "pygments_lexer": "ipython2",
   "version": "2.7.6"
  }
 },
 "nbformat": 4,
 "nbformat_minor": 5
}
