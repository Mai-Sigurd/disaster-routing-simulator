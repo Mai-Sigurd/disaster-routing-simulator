{
 "cells": [
  {
   "cell_type": "code",
   "id": "initial_id",
   "metadata": {
    "collapsed": true,
    "jupyter": {
     "outputs_hidden": true
    }
   },
   "source": [
    "import math\n",
    "import pickle\n",
    "\n",
    "import igraph\n",
    "import matplotlib.pyplot as plt\n",
    "import numpy as np\n",
    "import osmnx as ox\n",
    "import pandas as pd\n",
    "\n",
    "from config import GRAPH_DIR, CPH_G_GRAPHML, DATA_DIR"
   ],
   "outputs": [],
   "execution_count": null
  },
  {
   "cell_type": "code",
   "id": "93c406854a23136b",
   "metadata": {},
   "source": [
    "ox_graph = ox.load_graphml(GRAPH_DIR / CPH_G_GRAPHML)\n",
    "with open(\"amager-polaris-3_igraph.pkl\", \"rb\") as f:\n",
    "    ig_graph: igraph.Graph = pickle.load(f)"
   ],
   "outputs": [],
   "execution_count": null
  },
  {
   "cell_type": "code",
   "id": "86723603d5ed54f2",
   "metadata": {},
   "source": [
    "ig_edges = {e['id']: e for e in ig_graph.es}\n",
    "\n",
    "data, missing_road_ids = [], []\n",
    "for from_node, to_node, link_data in ox_graph.edges(data=True):\n",
    "    osm_id = link_data['osmid']\n",
    "    if isinstance(osm_id, list):\n",
    "        continue\n",
    "    # osm_ids = osm_id if isinstance(osm_id, list) else [osm_id]\n",
    "\n",
    "    ox_length = ig_length = 0\n",
    "    ox_length += link_data['length']\n",
    "    if str(osm_id) not in ig_edges:\n",
    "        missing_road_ids.append(osm_id)\n",
    "        continue\n",
    "    ig_length += ig_edges[str(osm_id)]['length']\n",
    "\n",
    "    # for osm_id in osm_ids:\n",
    "    #     osm_id = str(osm_id)\n",
    "    #     if osm_id not in ig_edges:\n",
    "    #         missing_road_ids.append(osm_id)\n",
    "    #         continue\n",
    "    #     ig_length += ig_edges[osm_id]['length']\n",
    "\n",
    "    diff = ox_length - ig_length\n",
    "    data.append({'osm_id': osm_id, 'ox_len': ox_length, 'ig_len': ig_length, 'diff': diff})\n",
    "\n",
    "df = pd.DataFrame(data)\n",
    "df['comparison'] = df['diff'].apply(\n",
    "    lambda x: 'NetworkX < SUMO' if x < 0 else 'NetworkX > SUMO' if x > 0 else 'NetworkX = SUMO'\n",
    ")"
   ],
   "outputs": [],
   "execution_count": null
  },
  {
   "cell_type": "code",
   "id": "1e16d82a8c2ec7d1",
   "metadata": {},
   "source": [
    "df['comparison'].value_counts().plot(kind='bar')\n",
    "plt.title('Count of NetworkX vs SUMO Edge Length Comparisons')\n",
    "plt.xlabel('NetworkX length compared to SUMO length')\n",
    "plt.ylabel('Number of road segments')\n",
    "plt.xticks(rotation=0)\n",
    "plt.savefig(DATA_DIR / 'networkx_vs_sumo_count.png', dpi=300, bbox_inches='tight')\n",
    "plt.show()\n",
    "\n",
    "# Print number of edges in each category\n",
    "print(df['comparison'].value_counts())"
   ],
   "outputs": [],
   "execution_count": null
  },
  {
   "cell_type": "code",
   "id": "7a3dbeaaef26623d",
   "metadata": {},
   "source": [
    "bin_width = 1\n",
    "bins = np.arange(math.floor(df['diff'].min()), math.ceil(df['diff'].max()) + bin_width, bin_width)\n",
    "\n",
    "df['diff'].hist(bins=bins)\n",
    "plt.title('Distribution of NetworkX - SUMO Edge Length Differences')\n",
    "plt.xlabel('NetworkX length − SUMO length (meters)')\n",
    "plt.ylabel('Frequency')\n",
    "plt.axvline(0, color='black', linestyle='dashed', label='No difference')\n",
    "plt.legend()\n",
    "plt.savefig(DATA_DIR / 'networkx_vs_sumo_diff_hist.png', dpi=300, bbox_inches='tight')\n",
    "plt.show()\n",
    "\n",
    "# Count bins and print the top 15\n",
    "counts = df['diff'].value_counts(bins=bins)\n",
    "top_15_bins = counts.nlargest(15)\n",
    "print(\"Top 15 bins with the most counts:\")\n",
    "for bin, count in top_15_bins.items():\n",
    "    print(f\"Bin: {bin}, Count: {count}\")"
   ],
   "outputs": [],
   "execution_count": null
  },
  {
   "cell_type": "code",
   "id": "a99eaa1ded5dd0f",
   "metadata": {},
   "source": [
    "df.boxplot(column='diff')\n",
    "plt.title('Summary of Edge Length Differences (NetworkX - SUMO)')\n",
    "plt.ylabel('NetworkX length − SUMO length (meters)')\n",
    "plt.savefig(DATA_DIR / 'networkx_vs_sumo_diff_box.png', dpi=300, bbox_inches='tight')\n",
    "\n",
    "plt.show()"
   ],
   "outputs": [],
   "execution_count": null
  },
  {
   "cell_type": "code",
   "id": "d5b8b6ab70e280ff",
   "metadata": {},
   "source": [
    "# Compute percentage difference\n",
    "df['percent_diff'] = (df['ox_len'] - df['ig_len']) / df['ox_len'] * 100\n",
    "\n",
    "df['percent_diff'].hist(bins=50)\n",
    "plt.title('Percentage Difference: SUMO Length Relative to NetworkX')\n",
    "plt.xlabel('((NetworkX − SUMO) / NetworkX) × 100')\n",
    "plt.ylabel('Frequency')\n",
    "plt.axvline(0, color='black', linestyle='dashed', label='Exact Match')\n",
    "plt.legend()\n",
    "plt.savefig(DATA_DIR / 'networkx_vs_sumo_percent_diff_hist.png', dpi=300, bbox_inches='tight')\n",
    "plt.show()\n",
    "\n",
    "# Print how many are above 90%\n",
    "print(f\"Number of edges with 100% difference: {len(df[df['percent_diff'] >= 90])}\")"
   ],
   "outputs": [],
   "execution_count": null
  },
  {
   "cell_type": "code",
   "id": "9029b5e0ff1782e8",
   "metadata": {},
   "source": [
    "df.head()\n",
    "\n",
    "# OSM IDs in more than 1 row\n",
    "duplicate_osm_ids = 0\n",
    "for osm_id, group in df.groupby('osm_id'):\n",
    "    if len(group) > 1:\n",
    "        duplicate_osm_ids += 1\n",
    "print(duplicate_osm_ids)"
   ],
   "outputs": [],
   "execution_count": null
  },
  {
   "metadata": {},
   "cell_type": "code",
   "source": [
    "ravenna_ox_graph = ox.load_graphml(GRAPH_DIR / \"Ravenna.graphml\")\n",
    "speed_limits = []\n",
    "\n",
    "\n",
    "def extract_speed_limits(graph):\n",
    "    speed_limits = []\n",
    "    for _, _, data in graph.edges(data=True):\n",
    "        maxspeed = data.get(\"maxspeed\")\n",
    "        if maxspeed:\n",
    "            try:\n",
    "                if isinstance(maxspeed, list):\n",
    "                    values = [float(x) for x in maxspeed]\n",
    "                    speed_limits.append(round(sum(values) / len(values)))\n",
    "                else:\n",
    "                    speed_limits.append(round(float(maxspeed)))\n",
    "            except ValueError:\n",
    "                continue\n",
    "    return pd.Series(speed_limits)\n",
    "\n",
    "\n",
    "ox_speeds = extract_speed_limits(ox_graph)\n",
    "ravenna_speeds = extract_speed_limits(ravenna_ox_graph)\n",
    "\n",
    "ox_pct = ox_speeds.value_counts(normalize=True).sort_index() * 100\n",
    "ravenna_pct = ravenna_speeds.value_counts(normalize=True).sort_index() * 100\n",
    "comparison_df = pd.concat([ox_pct, ravenna_pct], axis=1, keys=[\"Amager (%)\", \"Ravenna (%)\"]).fillna(0)\n",
    "\n",
    "comparison_df.plot(kind=\"bar\", figsize=(12, 6))\n",
    "plt.title(\"Speed Limit Distribution Comparison: Amager vs Ravenna\")\n",
    "plt.xlabel(\"Speed Limit (km/h)\")\n",
    "plt.ylabel(\"Percentage of Road Segments\")\n",
    "plt.xticks(rotation=0)\n",
    "plt.grid(True)\n",
    "plt.tight_layout()\n",
    "plt.savefig(DATA_DIR / \"speed_limit_comparison.png\", dpi=300, bbox_inches=\"tight\")\n",
    "plt.show()"
   ],
   "id": "490d96159166ac81",
   "outputs": [],
   "execution_count": null
  }
 ],
 "metadata": {
  "kernelspec": {
   "display_name": "Python 3 (ipykernel)",
   "language": "python",
   "name": "python3"
  },
  "language_info": {
   "codemirror_mode": {
    "name": "ipython",
    "version": 3
   },
   "file_extension": ".py",
   "mimetype": "text/x-python",
   "name": "python",
   "nbconvert_exporter": "python",
   "pygments_lexer": "ipython3",
   "version": "3.11.11"
  }
 },
 "nbformat": 4,
 "nbformat_minor": 5
}
