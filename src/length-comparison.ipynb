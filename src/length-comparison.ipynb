{
 "cells": [
  {
   "cell_type": "code",
   "id": "initial_id",
   "metadata": {
    "collapsed": true,
    "jupyter": {
     "outputs_hidden": true
    }
   },
   "source": [
    "import pickle\n",
    "\n",
    "import igraph\n",
    "import matplotlib.pyplot as plt\n",
    "import numpy as np\n",
    "import osmnx as ox\n",
    "import pandas as pd\n",
    "\n",
    "from config import GRAPH_DIR, CPH_G_GRAPHML, DATA_DIR"
   ],
   "outputs": [],
   "execution_count": null
  },
  {
   "cell_type": "code",
   "id": "93c406854a23136b",
   "metadata": {},
   "source": [
    "ox_graph = ox.load_graphml(GRAPH_DIR / CPH_G_GRAPHML)\n",
    "with open(\"polaris-igraph.pkl\", 'rb') as f:\n",
    "    ig_graph: igraph.Graph = pickle.load(f)"
   ],
   "outputs": [],
   "execution_count": null
  },
  {
   "cell_type": "code",
   "id": "86723603d5ed54f2",
   "metadata": {},
   "source": [
    "ig_edges = {e['id']: e for e in ig_graph.es}\n",
    "\n",
    "data, missing_road_ids = [], []\n",
    "for from_node, to_node, link_data in ox_graph.edges(data=True):\n",
    "    osm_id = link_data['osmid']\n",
    "    if isinstance(osm_id, list):\n",
    "        continue\n",
    "    # osm_ids = osm_id if isinstance(osm_id, list) else [osm_id]\n",
    "\n",
    "    ox_length = ig_length = 0\n",
    "    ox_length += link_data['length']\n",
    "    if str(osm_id) not in ig_edges:\n",
    "        missing_road_ids.append(osm_id)\n",
    "        continue\n",
    "    ig_length += ig_edges[str(osm_id)]['length']\n",
    "\n",
    "    # for osm_id in osm_ids:\n",
    "    #     osm_id = str(osm_id)\n",
    "    #     if osm_id not in ig_edges:\n",
    "    #         missing_road_ids.append(osm_id)\n",
    "    #         continue\n",
    "    #     ig_length += ig_edges[osm_id]['length']\n",
    "\n",
    "    diff = ox_length - ig_length\n",
    "    data.append({'osm_id': osm_id, 'ox_len': ox_length, 'ig_len': ig_length, 'diff': diff})\n",
    "\n",
    "df = pd.DataFrame(data)\n",
    "df['comparison'] = df['diff'].apply(lambda x: 'shorter' if x < 0 else 'longer' if x > 0 else 'equal')"
   ],
   "outputs": [],
   "execution_count": null
  },
  {
   "cell_type": "code",
   "id": "1e16d82a8c2ec7d1",
   "metadata": {},
   "source": [
    "df['comparison'].value_counts().plot(kind='bar')\n",
    "plt.title('Count of ox_length vs ig_length')\n",
    "plt.xlabel('ox_length compared to ig_length')\n",
    "plt.ylabel('Number of road segments')\n",
    "plt.savefig(DATA_DIR / 'ox_vs_ig_count.png', dpi=300, bbox_inches='tight')\n",
    "plt.show()"
   ],
   "outputs": [],
   "execution_count": null
  },
  {
   "cell_type": "code",
   "id": "7a3dbeaaef26623d",
   "metadata": {},
   "source": [
    "bin_width = 1\n",
    "bins = np.arange(df['diff'].min(), df['diff'].max() + bin_width, bin_width)\n",
    "\n",
    "df['diff'].hist(bins=bins)\n",
    "plt.title('Distribution of ox_length - ig_length length differences')\n",
    "plt.xlabel('ox_length - ig_length')\n",
    "plt.ylabel('Frequency')\n",
    "plt.axvline(0, color='black', linestyle='dashed')\n",
    "plt.savefig(DATA_DIR / 'ox_vs_ig_diff_hist.png')\n",
    "plt.show()"
   ],
   "outputs": [],
   "execution_count": null
  },
  {
   "cell_type": "code",
   "id": "a99eaa1ded5dd0f",
   "metadata": {},
   "source": [
    "df.boxplot(column='diff')\n",
    "plt.title('Summary of Length Differences (ox_length - ig_length)')\n",
    "plt.ylabel('Difference in length')\n",
    "plt.savefig(DATA_DIR / 'ox_vs_ig_diff_box.png')\n",
    "plt.show()"
   ],
   "outputs": [],
   "execution_count": null
  },
  {
   "cell_type": "code",
   "id": "d5b8b6ab70e280ff",
   "metadata": {},
   "source": [
    "# Compute percentage difference\n",
    "df['percent_diff'] = (df['ox_len'] - df['ig_len']) / df['ox_len'] * 100\n",
    "df['percent_diff'].hist(bins=50)\n",
    "plt.title('Percentage Difference: ig_length under/over ox_length')\n",
    "plt.xlabel('((ox - ig) / ox) * 100')\n",
    "plt.ylabel('Frequency')\n",
    "plt.axvline(0, color='black', linestyle='dashed', label='Exact Match')\n",
    "plt.legend()\n",
    "plt.savefig(DATA_DIR / 'ox_vs_ig_percent_diff_hist.png')\n",
    "plt.show()"
   ],
   "outputs": [],
   "execution_count": null
  },
  {
   "cell_type": "code",
   "id": "9029b5e0ff1782e8",
   "metadata": {},
   "source": [
    "df.head()\n",
    "\n",
    "# OSM IDs in more than 1 row\n",
    "duplicate_osm_ids = 0\n",
    "for osm_id, group in df.groupby('osm_id'):\n",
    "    if len(group) > 1:\n",
    "        duplicate_osm_ids += 1\n",
    "print(duplicate_osm_ids)"
   ],
   "outputs": [],
   "execution_count": null
  }
 ],
 "metadata": {
  "kernelspec": {
   "display_name": "Python 3 (ipykernel)",
   "language": "python",
   "name": "python3"
  },
  "language_info": {
   "codemirror_mode": {
    "name": "ipython",
    "version": 3
   },
   "file_extension": ".py",
   "mimetype": "text/x-python",
   "name": "python",
   "nbconvert_exporter": "python",
   "pygments_lexer": "ipython3",
   "version": "3.11.11"
  }
 },
 "nbformat": 4,
 "nbformat_minor": 5
}
