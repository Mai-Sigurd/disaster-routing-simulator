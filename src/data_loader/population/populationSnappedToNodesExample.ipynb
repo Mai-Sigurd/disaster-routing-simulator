{
 "cells": [
  {
   "cell_type": "code",
   "execution_count": null,
   "id": "602d4d33-813c-4a92-94fb-26638e2001af",
   "metadata": {
    "ExecuteTime": {
     "end_time": "2025-02-25T14:17:05.031805Z",
     "start_time": "2025-02-25T14:17:05.025988Z"
    }
   },
   "outputs": [],
   "source": [
    "import numpy as np\n",
    "import osmnx as ox\n",
    "import rasterio.warp\n",
    "\n",
    "from data_loader import DATA_DIR"
   ]
  },
  {
   "cell_type": "markdown",
   "id": "cdeca497",
   "metadata": {},
   "source": [
    "Change the file path and filename to match your file. "
   ]
  },
  {
   "cell_type": "code",
   "execution_count": null,
   "id": "8fac9a0a",
   "metadata": {
    "ExecuteTime": {
     "end_time": "2025-02-25T14:17:05.048514Z",
     "start_time": "2025-02-25T14:17:05.045636Z"
    }
   },
   "outputs": [],
   "source": [
    "path = DATA_DIR / \"population\"\n",
    "file_name = \"dnk_ppp_2020_constrained.tif\""
   ]
  },
  {
   "cell_type": "code",
   "execution_count": null,
   "id": "87fb4540-5c8c-455a-ab5d-9876cdc83d3a",
   "metadata": {
    "ExecuteTime": {
     "end_time": "2025-02-25T14:17:42.881651Z",
     "start_time": "2025-02-25T14:17:05.203794Z"
    }
   },
   "outputs": [],
   "source": [
    "import geopandas as gpd\n",
    "from shapely.geometry import Point\n",
    "\n",
    "with rasterio.open(path / file_name) as dataset:\n",
    "    val = dataset.read(1)  # band 5\n",
    "    no_data = dataset.nodata\n",
    "    geometry = [\n",
    "        Point(dataset.xy(x, y)[0], dataset.xy(x, y)[1])\n",
    "        for x, y in np.ndindex(val.shape)\n",
    "        if val[x, y] != no_data\n",
    "    ]\n",
    "    v = [val[x, y] for x, y in np.ndindex(val.shape) if val[x, y] != no_data]\n",
    "    df = gpd.GeoDataFrame({\"geometry\": geometry, \"data\": v})\n",
    "    df.crs = dataset.crs\n",
    "df.head()"
   ]
  },
  {
   "cell_type": "code",
   "execution_count": null,
   "id": "1b251b8c821ce2c7",
   "metadata": {
    "ExecuteTime": {
     "end_time": "2025-02-25T14:17:54.675257Z",
     "start_time": "2025-02-25T14:17:43.279418Z"
    }
   },
   "outputs": [],
   "source": [
    "from data_loader.osm import download_cph\n",
    "\n",
    "G = download_cph()"
   ]
  },
  {
   "cell_type": "code",
   "execution_count": null,
   "id": "ddf9febdfa850b39",
   "metadata": {
    "ExecuteTime": {
     "end_time": "2025-02-25T14:17:55.911221Z",
     "start_time": "2025-02-25T14:17:54.719784Z"
    }
   },
   "outputs": [],
   "source": [
    "# Filter df data to only include points within the graph\n",
    "nodes, edges = ox.graph_to_gdfs(G)\n",
    "xmin, ymin, xmax, ymax = nodes.total_bounds\n",
    "gdf_filtered = df[\n",
    "    (df.geometry.x > xmin)\n",
    "    & (df.geometry.x < xmax)\n",
    "    & (df.geometry.y > ymin)\n",
    "    & (df.geometry.y < ymax)\n",
    "    ]\n",
    "print(gdf_filtered.shape)\n",
    "gdf_filtered.head()"
   ]
  },
  {
   "cell_type": "code",
   "execution_count": null,
   "id": "ff3b6702c02d8d55",
   "metadata": {
    "ExecuteTime": {
     "end_time": "2025-02-25T14:17:55.952987Z",
     "start_time": "2025-02-25T14:17:55.948016Z"
    }
   },
   "outputs": [],
   "source": [
    "nodes.head()"
   ]
  },
  {
   "cell_type": "code",
   "execution_count": null,
   "id": "17372d9f",
   "metadata": {
    "ExecuteTime": {
     "end_time": "2025-02-25T14:17:58.997622Z",
     "start_time": "2025-02-25T14:17:56.010846Z"
    }
   },
   "outputs": [],
   "source": [
    "# plot the gdf_filtered\n",
    "import matplotlib.pyplot as plt\n",
    "\n",
    "fig, ax = plt.subplots(figsize=(10, 10))\n",
    "nodes.plot(ax=ax, facecolor=\"black\")\n",
    "edges.plot(ax=ax, linewidth=1, edgecolor=\"black\")\n",
    "## make points smaller\n",
    "gdf_filtered.plot(ax=ax, column=\"data\", legend=True, markersize=0.5)\n",
    "\n",
    "plt.show()"
   ]
  },
  {
   "cell_type": "code",
   "execution_count": null,
   "id": "b41d165fbd547972",
   "metadata": {
    "ExecuteTime": {
     "end_time": "2025-02-25T14:17:59.537731Z",
     "start_time": "2025-02-25T14:17:59.050513Z"
    }
   },
   "outputs": [],
   "source": [
    "from shapely.geometry import Polygon\n",
    "\n",
    "# Define the polygon from coordinates, this is a top part of Amager\n",
    "coords = [\n",
    "    (12.594274044129435, 55.66867990825105),\n",
    "    (12.594274044129435, 55.66233625713531),\n",
    "    (12.610694718998047, 55.66233625713531),\n",
    "    (12.610694718998047, 55.66867990825105),\n",
    "    (12.594274044129435, 55.66867990825105),\n",
    "]\n",
    "\n",
    "polygon = Polygon(coords)\n",
    "xmin, ymin, xmax, ymax = polygon.bounds\n",
    "cphSmall = df[\n",
    "    (df.geometry.x > xmin)\n",
    "    & (df.geometry.x < xmax)\n",
    "    & (df.geometry.y > ymin)\n",
    "    & (df.geometry.y < ymax)\n",
    "    ]\n",
    "print(len(cphSmall))\n",
    "cphSmall.head()\n",
    "\n",
    "smallNodes = nodes.cx[xmin:xmax, ymin:ymax]\n",
    "smallEdges = edges.cx[xmin:xmax, ymin:ymax]"
   ]
  },
  {
   "cell_type": "code",
   "execution_count": null,
   "id": "a1756c2023d97580",
   "metadata": {
    "ExecuteTime": {
     "end_time": "2025-02-25T14:17:59.685537Z",
     "start_time": "2025-02-25T14:17:59.553037Z"
    }
   },
   "outputs": [],
   "source": [
    "import matplotlib.pyplot as plt\n",
    "\n",
    "fig, ax = plt.subplots(figsize=(10, 10))\n",
    "smallNodes.plot(ax=ax, facecolor=\"black\")\n",
    "smallEdges.plot(ax=ax, linewidth=1, edgecolor=\"black\")\n",
    "## make points smaller\n",
    "cphSmall.plot(ax=ax, column=\"data\", legend=True, markersize=100)\n",
    "\n",
    "plt.show()"
   ]
  },
  {
   "cell_type": "code",
   "execution_count": null,
   "id": "98719655",
   "metadata": {
    "ExecuteTime": {
     "end_time": "2025-02-25T14:18:07.588438Z",
     "start_time": "2025-02-25T14:17:59.776967Z"
    }
   },
   "outputs": [],
   "source": [
    "nearestnodesToPop = {}\n",
    "for id in cphSmall.index:\n",
    "    point = cphSmall.loc[id].geometry\n",
    "    pop = cphSmall.loc[id].data\n",
    "    (nearest_node, dist) = ox.distance.nearest_nodes(\n",
    "        G, point.x, point.y, return_dist=True\n",
    "    )\n",
    "    if dist < 100:  # more than 100 meters away, dont add it to the pop\n",
    "        if nearest_node not in nearestnodesToPop:\n",
    "            nearestnodesToPop[nearest_node] = pop\n",
    "        else:\n",
    "            nearestnodesToPop[nearest_node] += pop\n",
    "cphSmallPop = gpd.GeoDataFrame(\n",
    "    {\n",
    "        \"id\": list(nearestnodesToPop.keys()),\n",
    "        \"pop\": list(nearestnodesToPop.values()),\n",
    "        \"geometry\": [nodes.loc[k].geometry for k in nearestnodesToPop.keys()],\n",
    "    },\n",
    "    geometry=\"geometry\",  # Explicitly set geometry column\n",
    ")\n",
    "if nodes.crs:\n",
    "    cphSmallPop.set_crs(\n",
    "        nodes.crs, inplace=True\n",
    "    )  # Set Coordinate Reference System from nodes\n",
    "    cphSmallPop = cphSmallPop.to_crs(nodes.crs)  # Now reproject\n",
    "else:\n",
    "    raise ValueError(\"Nodes GeoDataFrame has no CRS defined!\")"
   ]
  },
  {
   "cell_type": "code",
   "execution_count": null,
   "id": "6a5728f4",
   "metadata": {
    "ExecuteTime": {
     "end_time": "2025-02-25T14:18:07.756058Z",
     "start_time": "2025-02-25T14:18:07.749016Z"
    }
   },
   "outputs": [],
   "source": [
    "cphSmallPop.to_file(\"CPHpop.geojson\", driver=\"GeoJSON\")"
   ]
  },
  {
   "cell_type": "code",
   "execution_count": null,
   "id": "532a9597",
   "metadata": {
    "ExecuteTime": {
     "end_time": "2025-02-25T14:18:07.916565Z",
     "start_time": "2025-02-25T14:18:07.774490Z"
    }
   },
   "outputs": [],
   "source": [
    "fig, ax = plt.subplots(figsize=(10, 10))\n",
    "smallNodes.plot(ax=ax, facecolor=\"black\")\n",
    "smallEdges.plot(ax=ax, linewidth=1, edgecolor=\"black\")\n",
    "## make points smaller\n",
    "cphSmallPop.plot(ax=ax, column=\"pop\", legend=True, markersize=100)"
   ]
  }
 ],
 "metadata": {
  "kernelspec": {
   "display_name": "venv",
   "language": "python",
   "name": "python3"
  },
  "language_info": {
   "codemirror_mode": {
    "name": "ipython",
    "version": 3
   },
   "file_extension": ".py",
   "mimetype": "text/x-python",
   "name": "python",
   "nbconvert_exporter": "python",
   "pygments_lexer": "ipython3",
   "version": "3.13.2"
  }
 },
 "nbformat": 4,
 "nbformat_minor": 5
}
