{
 "cells": [
  {
   "cell_type": "code",
   "id": "initial_id",
   "metadata": {
    "collapsed": true
   },
   "source": [
    "import math\n",
    "import pickle\n",
    "\n",
    "import geopandas as gpd\n",
    "import igraph\n",
    "import osmnx as ox\n",
    "from geojson import LineString\n",
    "from matplotlib import pyplot as plt\n",
    "from shapely.affinity import translate\n",
    "\n",
    "from config import CPH_AMAGER_DANGER_ZONE\n",
    "from data_loader import load_json_file_to_str\n",
    "from data_loader.danger_zones import load_danger_zone_from_str\n",
    "from data_loader.osm import load_osm\n",
    "from routes.fastest_path import FastestPath\n",
    "from routes.route import Route\n",
    "from routes.route_algo import RouteAlgo\n",
    "from routes.shortest_path import ShortestPath"
   ],
   "outputs": [],
   "execution_count": null
  },
  {
   "metadata": {},
   "cell_type": "code",
   "source": [
    "# Load the OSM data for Copenhagen\n",
    "graph = load_osm(\"copenhagen.graphml\")\n",
    "nodes, edges = ox.graph_to_gdfs(graph)"
   ],
   "id": "6ca23cf544b5a6d2",
   "outputs": [],
   "execution_count": null
  },
  {
   "metadata": {},
   "cell_type": "code",
   "source": [
    "# Compute paths to safety\n",
    "origin = 16965546\n",
    "danger_zones = load_danger_zone_from_str(\n",
    "    load_json_file_to_str(CPH_AMAGER_DANGER_ZONE), \"EPSG:4326\"\n",
    ")\n",
    "\n",
    "\n",
    "def pathfind(algorithm: RouteAlgo) -> tuple[list[str], gpd.GeoSeries]:\n",
    "    path = algorithm.route_to_safety([origin], danger_zones, graph)[origin][0]\n",
    "    path_coordinates = [\n",
    "        (graph.nodes[node][\"x\"], graph.nodes[node][\"y\"]) for node in path\n",
    "    ]\n",
    "    return path, gpd.GeoSeries([LineString(path_coordinates)], crs=edges.crs)\n",
    "\n",
    "\n",
    "fastest_path, fastest_line = pathfind(FastestPath())\n",
    "_, shortest_line = pathfind(ShortestPath())"
   ],
   "id": "7fc7b6d317f03550",
   "outputs": [],
   "execution_count": null
  },
  {
   "metadata": {},
   "cell_type": "code",
   "source": [
    "with open(\"routes/amager-polaris-1_igraph.pkl\", \"rb\") as f:\n",
    "    polaris_graph: igraph.Graph = pickle.load(f)\n",
    "with open(\"routes/amager-polaris-1_polaris_paths.pkl\", \"rb\") as f:\n",
    "    polaris_routes: list[Route] = pickle.load(f)\n",
    "\n",
    "polaris_origin = str(origin)\n",
    "for v in polaris_graph.vs:\n",
    "    if v['name'] == polaris_origin:\n",
    "        polaris_origin = v['original_id']\n",
    "        break\n",
    "\n",
    "origin_node = graph.nodes[origin]\n",
    "origin_coords = origin_node[\"x\"], origin_node[\"y\"]\n",
    "\n",
    "polaris_paths = []\n",
    "for route in polaris_routes:\n",
    "    # if route.path[0] == polaris_origin:\n",
    "    #     polaris_paths.append(route.path)\n",
    "    coords = polaris_graph.es[route.path[0]][\"coordinates\"][\"from\"]\n",
    "    if math.isclose(coords[0], origin_coords[0], abs_tol=1e-3) and math.isclose(coords[1], origin_coords[1], abs_tol=1e-3):\n",
    "        polaris_paths.append(route.path)\n",
    "\n",
    "polaris_lines = []\n",
    "for path in polaris_paths:\n",
    "    path_coordinates = []\n",
    "    for i, edge in enumerate(path):\n",
    "        coordinates = polaris_graph.es[edge][\"coordinates\"]\n",
    "        if i == 0:\n",
    "            path_coordinates.append(coordinates[\"from\"])\n",
    "        path_coordinates.append(coordinates[\"to\"])\n",
    "    polaris_lines.append(gpd.GeoSeries([LineString(path_coordinates)], crs=edges.crs))"
   ],
   "id": "b27166ba2bcc9e93",
   "outputs": [],
   "execution_count": null
  },
  {
   "metadata": {},
   "cell_type": "code",
   "source": [
    "# Project the GeoDataFrames to UTM zone 32N (EPSG:32632)\n",
    "epsg = 32632\n",
    "nodes = nodes.to_crs(epsg=epsg)\n",
    "edges = edges.to_crs(epsg=epsg)\n",
    "\n",
    "# Offset the lines to avoid overlap in the plot\n",
    "path_gdfs = [\n",
    "    fastest_line.to_crs(epsg=epsg).apply(lambda geom: translate(geom, xoff=-60)),\n",
    "    shortest_line.to_crs(epsg=epsg).apply(lambda geom: translate(geom, xoff=-30)),\n",
    "    polaris_lines[3].to_crs(epsg=epsg).apply(lambda geom: translate(geom, xoff=0)),\n",
    "    polaris_lines[4].to_crs(epsg=epsg).apply(lambda geom: translate(geom, xoff=30)),\n",
    "    polaris_lines[5].to_crs(epsg=epsg).apply(lambda geom: translate(geom, xoff=60)),\n",
    "]"
   ],
   "id": "8df92e2134c369a8",
   "outputs": [],
   "execution_count": null
  },
  {
   "metadata": {},
   "cell_type": "code",
   "source": [
    "# Plot the graph with the paths overlayed. Zoomed in on the paths with a buffer around them.\n",
    "buffer = 1_000\n",
    "\n",
    "labels = ['Fastest', 'Shortest', 'Polaris (1)', 'Polaris (2)', 'Polaris (3)']\n",
    "colors = ['red', 'blue', 'green', 'yellow', 'cyan']\n",
    "\n",
    "fig, ax = plt.subplots(figsize=(10, 10))\n",
    "edges.plot(ax=ax, linewidth=1, edgecolor='gray')\n",
    "# nodes.plot(ax=ax, markersize=1, color='black')\n",
    "for gdf, color, label in zip(path_gdfs, colors, labels):\n",
    "    gdf.plot(ax=ax, linewidth=3, color=color, label=label)\n",
    "\n",
    "minx, miny, maxx, maxy = gpd.GeoSeries([g[0] for g in path_gdfs], crs=edges.crs).total_bounds\n",
    "ax.set_xlim(minx - buffer, maxx + buffer)\n",
    "ax.set_ylim(miny - buffer, maxy + buffer)\n",
    "\n",
    "# ax.set_title(\"Graph with Path Overlay on Amager\", fontsize=16)\n",
    "ax.set_aspect('equal')\n",
    "ax.legend(title=\"Paths\")\n",
    "ax.tick_params(left=False, bottom=False, labelleft=False, labelbottom=False)\n",
    "\n",
    "plt.savefig(\"graph_with_paths.png\", dpi=1000, bbox_inches='tight')\n",
    "plt.show()"
   ],
   "id": "88a9da60eb70ebc3",
   "outputs": [],
   "execution_count": null
  }
 ],
 "metadata": {
  "kernelspec": {
   "display_name": "Python 3",
   "language": "python",
   "name": "python3"
  },
  "language_info": {
   "codemirror_mode": {
    "name": "ipython",
    "version": 2
   },
   "file_extension": ".py",
   "mimetype": "text/x-python",
   "name": "python",
   "nbconvert_exporter": "python",
   "pygments_lexer": "ipython2",
   "version": "2.7.6"
  }
 },
 "nbformat": 4,
 "nbformat_minor": 5
}
